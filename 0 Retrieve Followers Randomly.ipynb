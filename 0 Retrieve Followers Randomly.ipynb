{
 "cells": [
  {
   "cell_type": "code",
   "execution_count": 1,
   "metadata": {},
   "outputs": [],
   "source": [
    "import tweepy\n",
    "from tweepy import api\n",
    "import datetime\n",
    "import time\n",
    "import pandas as p"
   ]
  },
  {
   "cell_type": "code",
   "execution_count": 2,
   "metadata": {},
   "outputs": [],
   "source": [
    "# Create variables for each key, secret, token\n",
    "consumer_key = ''\n",
    "consumer_secret = ''\n",
    "access_token = ''\n",
    "access_token_secret = ''\n",
    "\n",
    "directory = \"C:/Users/BLAHBLAHBLAH/Desktop/so_random.csv\"\n",
    "query = \"a\"\n",
    "n_people = 100"
   ]
  },
  {
   "cell_type": "code",
   "execution_count": 3,
   "metadata": {},
   "outputs": [],
   "source": [
    "# Set up OAuth and integrate with API\n",
    "auth = tweepy.OAuthHandler(consumer_key, consumer_secret)\n",
    "auth.set_access_token(access_token, access_token_secret)\n",
    "api = tweepy.API(auth, wait_on_rate_limit = True)\n"
   ]
  },
  {
   "cell_type": "code",
   "execution_count": 4,
   "metadata": {},
   "outputs": [
    {
     "name": "stdout",
     "output_type": "stream",
     "text": [
      "Empty DataFrame\n",
      "Columns: [Random People]\n",
      "Index: []\n"
     ]
    }
   ],
   "source": [
    "try:\n",
    "    data = p.read_csv(directory, usecols = [0])\n",
    "    print(data.head(5))\n",
    "except FileNotFoundError:\n",
    "    data = p.DataFrame({'Random People': []})\n",
    "    data.to_csv(directory, index = False)\n",
    "    print(\"Created new, blank CSV file at\" + directory)\n"
   ]
  },
  {
   "cell_type": "code",
   "execution_count": 5,
   "metadata": {},
   "outputs": [
    {
     "name": "stdout",
     "output_type": "stream",
     "text": [
      "Current number of people: 0\n"
     ]
    }
   ],
   "source": [
    "current_set_of_people = set(data.iloc[:,0].tolist())\n",
    "print(\"Current number of people: \" + str(len(current_set_of_people)))"
   ]
  },
  {
   "cell_type": "code",
   "execution_count": 6,
   "metadata": {},
   "outputs": [],
   "source": [
    "def more_people(current_set_of_people, limit_total, query):\n",
    "    users = tweepy.Cursor(api.search_users, q = query).items()\n",
    "    while len(current_set_of_people) < limit_total:\n",
    "        try:\n",
    "            current_set_of_people.add(next(users).screen_name)\n",
    "            print(\"Current number of people: \" + str(len(current_set_of_people)))\n",
    "        except tweepy.TweepError as error:\n",
    "            print(error.args[0][0])\n",
    "            time.sleep(60*15)\n",
    "            current_set_of_people.add(next(users).screen_name)\n",
    "            print(\"Current number of people: \" + str(len(current_set_of_people)))\n",
    "        except StopIteration:\n",
    "            break\n",
    "    return current_set_of_people\n"
   ]
  },
  {
   "cell_type": "code",
   "execution_count": 7,
   "metadata": {},
   "outputs": [
    {
     "name": "stdout",
     "output_type": "stream",
     "text": [
      "Current number of people: 1\n",
      "Current number of people: 2\n",
      "Current number of people: 3\n",
      "Current number of people: 4\n",
      "Current number of people: 5\n",
      "Current number of people: 6\n",
      "Current number of people: 7\n",
      "Current number of people: 8\n",
      "Current number of people: 9\n",
      "Current number of people: 10\n",
      "Current number of people: 11\n",
      "Current number of people: 12\n",
      "Current number of people: 13\n",
      "Current number of people: 14\n",
      "Current number of people: 15\n",
      "Current number of people: 16\n",
      "Current number of people: 17\n",
      "Current number of people: 18\n",
      "Current number of people: 19\n",
      "Current number of people: 20\n",
      "Current number of people: 20\n",
      "Current number of people: 20\n",
      "Current number of people: 20\n",
      "Current number of people: 20\n",
      "Current number of people: 20\n",
      "Current number of people: 20\n",
      "Current number of people: 20\n",
      "Current number of people: 20\n",
      "Current number of people: 20\n",
      "Current number of people: 20\n",
      "Current number of people: 20\n",
      "Current number of people: 20\n",
      "Current number of people: 20\n",
      "Current number of people: 20\n",
      "Current number of people: 20\n",
      "Current number of people: 20\n",
      "Current number of people: 20\n",
      "Current number of people: 20\n",
      "Current number of people: 20\n",
      "Current number of people: 20\n",
      "Current number of people: 21\n",
      "Current number of people: 22\n",
      "Current number of people: 23\n",
      "Current number of people: 24\n",
      "Current number of people: 25\n",
      "Current number of people: 26\n",
      "Current number of people: 27\n",
      "Current number of people: 28\n",
      "Current number of people: 29\n",
      "Current number of people: 30\n",
      "Current number of people: 31\n",
      "Current number of people: 32\n",
      "Current number of people: 33\n",
      "Current number of people: 34\n",
      "Current number of people: 35\n",
      "Current number of people: 36\n",
      "Current number of people: 37\n",
      "Current number of people: 38\n",
      "Current number of people: 39\n",
      "Current number of people: 40\n",
      "Current number of people: 41\n",
      "Current number of people: 42\n",
      "Current number of people: 43\n",
      "Current number of people: 44\n",
      "Current number of people: 45\n",
      "Current number of people: 46\n",
      "Current number of people: 47\n",
      "Current number of people: 48\n",
      "Current number of people: 49\n",
      "Current number of people: 50\n",
      "Current number of people: 51\n",
      "Current number of people: 52\n",
      "Current number of people: 53\n",
      "Current number of people: 54\n",
      "Current number of people: 55\n",
      "Current number of people: 56\n",
      "Current number of people: 57\n",
      "Current number of people: 58\n",
      "Current number of people: 59\n",
      "Current number of people: 60\n",
      "Current number of people: 61\n",
      "Current number of people: 62\n",
      "Current number of people: 63\n",
      "Current number of people: 64\n",
      "Current number of people: 65\n",
      "Current number of people: 66\n",
      "Current number of people: 67\n",
      "Current number of people: 68\n",
      "Current number of people: 69\n",
      "Current number of people: 70\n",
      "Current number of people: 71\n",
      "Current number of people: 72\n",
      "Current number of people: 73\n",
      "Current number of people: 74\n",
      "Current number of people: 75\n",
      "Current number of people: 76\n",
      "Current number of people: 77\n",
      "Current number of people: 78\n",
      "Current number of people: 79\n",
      "Current number of people: 80\n",
      "Current number of people: 81\n",
      "Current number of people: 82\n",
      "Current number of people: 83\n",
      "Current number of people: 84\n",
      "Current number of people: 85\n",
      "Current number of people: 86\n",
      "Current number of people: 87\n",
      "Current number of people: 88\n",
      "Current number of people: 89\n",
      "Current number of people: 90\n",
      "Current number of people: 91\n",
      "Current number of people: 92\n",
      "Current number of people: 93\n",
      "Current number of people: 94\n",
      "Current number of people: 95\n",
      "Current number of people: 96\n",
      "Current number of people: 97\n",
      "Current number of people: 98\n",
      "Current number of people: 99\n",
      "Current number of people: 100\n"
     ]
    }
   ],
   "source": [
    "new_set_of_people = more_people(current_set_of_people, n_people, query)"
   ]
  },
  {
   "cell_type": "code",
   "execution_count": 8,
   "metadata": {},
   "outputs": [],
   "source": [
    "p.DataFrame({\n",
    "    'Random People': list(new_set_of_people)\n",
    "}).to_csv(directory, index = False)\n"
   ]
  }
 ],
 "metadata": {
  "kernelspec": {
   "display_name": "Python 3",
   "language": "python",
   "name": "python3"
  },
  "language_info": {
   "codemirror_mode": {
    "name": "ipython",
    "version": 3
   },
   "file_extension": ".py",
   "mimetype": "text/x-python",
   "name": "python",
   "nbconvert_exporter": "python",
   "pygments_lexer": "ipython3",
   "version": "3.7.1"
  }
 },
 "nbformat": 4,
 "nbformat_minor": 2
}
