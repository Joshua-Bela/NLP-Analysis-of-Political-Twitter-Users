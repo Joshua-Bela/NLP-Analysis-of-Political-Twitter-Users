{
 "cells": [
  {
   "cell_type": "code",
   "execution_count": 1,
   "metadata": {},
   "outputs": [],
   "source": [
    "import tweepy\n",
    "from tweepy import api\n",
    "import datetime\n",
    "import time\n",
    "import pandas as p"
   ]
  },
  {
   "cell_type": "code",
   "execution_count": 2,
   "metadata": {},
   "outputs": [],
   "source": [
    "# Create variables for each key, secret, token\n",
    "consumer_key = ''\n",
    "consumer_secret = ''\n",
    "access_token = ''\n",
    "access_token_secret = ''\n",
    "\n",
    "person = \"seanhannity\"\n",
    "directory = \"C:/Users/BLAHBLAHBLAH/Desktop/followers_seanhannity.csv\"\n",
    "n_followers = 100"
   ]
  },
  {
   "cell_type": "code",
   "execution_count": 3,
   "metadata": {},
   "outputs": [],
   "source": [
    "# Set up OAuth and integrate with API\n",
    "auth = tweepy.OAuthHandler(consumer_key, consumer_secret)\n",
    "auth.set_access_token(access_token, access_token_secret)\n",
    "api = tweepy.API(auth, wait_on_rate_limit = True)\n"
   ]
  },
  {
   "cell_type": "code",
   "execution_count": 4,
   "metadata": {},
   "outputs": [
    {
     "name": "stdout",
     "output_type": "stream",
     "text": [
      "Created new, blank CSV file atC:/Users/jgbel/Desktop/temp/followers_seanhannity.csv\n"
     ]
    }
   ],
   "source": [
    "try:\n",
    "    data = p.read_csv(directory, usecols = [0])\n",
    "    print(data.head(5))\n",
    "except FileNotFoundError:\n",
    "    data = p.DataFrame({person: []})\n",
    "    data.to_csv(directory, index = False)\n",
    "    print(\"Created new, blank CSV file at\" + directory)\n"
   ]
  },
  {
   "cell_type": "code",
   "execution_count": 5,
   "metadata": {},
   "outputs": [
    {
     "name": "stdout",
     "output_type": "stream",
     "text": [
      "Current number of followers: 0\n"
     ]
    }
   ],
   "source": [
    "current_set_of_followers = set(data.iloc[:,0].tolist())\n",
    "print(\"Current number of followers: \" + str(len(current_set_of_followers)))"
   ]
  },
  {
   "cell_type": "code",
   "execution_count": 6,
   "metadata": {},
   "outputs": [],
   "source": [
    "def more_followers(person_whom_they_follow, current_set_of_followers, limit_total):\n",
    "    users = tweepy.Cursor(api.followers, screen_name = person_whom_they_follow).items()\n",
    "    while len(current_set_of_followers) < limit_total:\n",
    "        try:\n",
    "            current_set_of_followers.add(next(users).screen_name)\n",
    "            print(\"Current number of followers: \" + str(len(current_set_of_followers)))\n",
    "        except tweepy.TweepError as error:\n",
    "            print(error.args[0][0])\n",
    "            time.sleep(60*15)\n",
    "            current_set_of_followers.add(next(users).screen_name)\n",
    "            print(\"Current number of followers: \" + str(len(current_set_of_followers)))\n",
    "        except StopIteration:\n",
    "            break\n",
    "    return current_set_of_followers\n"
   ]
  },
  {
   "cell_type": "code",
   "execution_count": 7,
   "metadata": {},
   "outputs": [
    {
     "name": "stdout",
     "output_type": "stream",
     "text": [
      "Current number of followers: 1\n",
      "Current number of followers: 2\n",
      "Current number of followers: 3\n",
      "Current number of followers: 4\n",
      "Current number of followers: 5\n",
      "Current number of followers: 6\n",
      "Current number of followers: 7\n",
      "Current number of followers: 8\n",
      "Current number of followers: 9\n",
      "Current number of followers: 10\n",
      "Current number of followers: 11\n",
      "Current number of followers: 12\n",
      "Current number of followers: 13\n",
      "Current number of followers: 14\n",
      "Current number of followers: 15\n",
      "Current number of followers: 16\n",
      "Current number of followers: 17\n",
      "Current number of followers: 18\n",
      "Current number of followers: 19\n",
      "Current number of followers: 20\n",
      "Current number of followers: 21\n",
      "Current number of followers: 22\n",
      "Current number of followers: 23\n",
      "Current number of followers: 24\n",
      "Current number of followers: 25\n",
      "Current number of followers: 26\n",
      "Current number of followers: 27\n",
      "Current number of followers: 28\n",
      "Current number of followers: 29\n",
      "Current number of followers: 30\n",
      "Current number of followers: 31\n",
      "Current number of followers: 32\n",
      "Current number of followers: 33\n",
      "Current number of followers: 34\n",
      "Current number of followers: 35\n",
      "Current number of followers: 36\n",
      "Current number of followers: 37\n",
      "Current number of followers: 38\n",
      "Current number of followers: 39\n",
      "Current number of followers: 40\n",
      "Current number of followers: 41\n",
      "Current number of followers: 42\n",
      "Current number of followers: 43\n",
      "Current number of followers: 44\n",
      "Current number of followers: 45\n",
      "Current number of followers: 46\n",
      "Current number of followers: 47\n",
      "Current number of followers: 48\n",
      "Current number of followers: 49\n",
      "Current number of followers: 50\n",
      "Current number of followers: 51\n",
      "Current number of followers: 52\n",
      "Current number of followers: 53\n",
      "Current number of followers: 54\n",
      "Current number of followers: 55\n",
      "Current number of followers: 56\n",
      "Current number of followers: 57\n",
      "Current number of followers: 58\n",
      "Current number of followers: 59\n",
      "Current number of followers: 60\n",
      "Current number of followers: 61\n",
      "Current number of followers: 62\n",
      "Current number of followers: 63\n",
      "Current number of followers: 64\n",
      "Current number of followers: 65\n",
      "Current number of followers: 66\n",
      "Current number of followers: 67\n",
      "Current number of followers: 68\n",
      "Current number of followers: 69\n",
      "Current number of followers: 70\n",
      "Current number of followers: 71\n",
      "Current number of followers: 72\n",
      "Current number of followers: 73\n",
      "Current number of followers: 74\n",
      "Current number of followers: 75\n",
      "Current number of followers: 76\n",
      "Current number of followers: 77\n",
      "Current number of followers: 78\n",
      "Current number of followers: 79\n",
      "Current number of followers: 80\n",
      "Current number of followers: 81\n",
      "Current number of followers: 82\n",
      "Current number of followers: 83\n",
      "Current number of followers: 84\n",
      "Current number of followers: 85\n",
      "Current number of followers: 86\n",
      "Current number of followers: 87\n",
      "Current number of followers: 88\n",
      "Current number of followers: 89\n",
      "Current number of followers: 90\n",
      "Current number of followers: 91\n",
      "Current number of followers: 92\n",
      "Current number of followers: 93\n",
      "Current number of followers: 94\n",
      "Current number of followers: 95\n",
      "Current number of followers: 96\n",
      "Current number of followers: 97\n",
      "Current number of followers: 98\n",
      "Current number of followers: 99\n",
      "Current number of followers: 100\n"
     ]
    }
   ],
   "source": [
    "new_set_of_followers = more_followers(person, current_set_of_followers, n_followers)"
   ]
  },
  {
   "cell_type": "code",
   "execution_count": 8,
   "metadata": {},
   "outputs": [],
   "source": [
    "p.DataFrame({\n",
    "    person: list(new_set_of_followers)\n",
    "}).to_csv(directory, index = False)\n"
   ]
  }
 ],
 "metadata": {
  "kernelspec": {
   "display_name": "Python 3",
   "language": "python",
   "name": "python3"
  },
  "language_info": {
   "codemirror_mode": {
    "name": "ipython",
    "version": 3
   },
   "file_extension": ".py",
   "mimetype": "text/x-python",
   "name": "python",
   "nbconvert_exporter": "python",
   "pygments_lexer": "ipython3",
   "version": "3.7.1"
  }
 },
 "nbformat": 4,
 "nbformat_minor": 2
}
