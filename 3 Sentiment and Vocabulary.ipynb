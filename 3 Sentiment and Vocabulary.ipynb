{
 "cells": [
  {
   "cell_type": "code",
   "execution_count": 1,
   "metadata": {},
   "outputs": [],
   "source": [
    "import pandas as p\n",
    "from nltk.corpus import subjectivity\n",
    "from nltk.sentiment import SentimentAnalyzer\n",
    "from textblob import TextBlob\n",
    "import matplotlib.pyplot as plotter\n",
    "import seaborn as sns\n",
    "import numpy as n\n",
    "from scipy.stats import percentileofscore"
   ]
  },
  {
   "cell_type": "code",
   "execution_count": 14,
   "metadata": {},
   "outputs": [],
   "source": [
    "input_directory1 = \"C:/Users/BLAHBLAHBLAH/Desktop/tweets_from_maddow_followers_cleaned.csv\"\n",
    "input_directory2 = \"C:/Users/BLAHBLAHBLAH/Desktop/tweets_from_seanhannity_followers_cleaned.csv\"\n",
    "input_directory_random = \"C:/Users/BLAHBLAHBLAH/Desktop/tweets_from_followers_random_cleaned.csv\"\n",
    "group1 = \"Democrats\"\n",
    "group2 = \"Republicans\""
   ]
  },
  {
   "cell_type": "code",
   "execution_count": 3,
   "metadata": {},
   "outputs": [
    {
     "data": {
      "text/html": [
       "<div>\n",
       "<style scoped>\n",
       "    .dataframe tbody tr th:only-of-type {\n",
       "        vertical-align: middle;\n",
       "    }\n",
       "\n",
       "    .dataframe tbody tr th {\n",
       "        vertical-align: top;\n",
       "    }\n",
       "\n",
       "    .dataframe thead th {\n",
       "        text-align: right;\n",
       "    }\n",
       "</style>\n",
       "<table border=\"1\" class=\"dataframe\">\n",
       "  <thead>\n",
       "    <tr style=\"text-align: right;\">\n",
       "      <th></th>\n",
       "      <th>date</th>\n",
       "      <th>tweets</th>\n",
       "      <th>name</th>\n",
       "    </tr>\n",
       "  </thead>\n",
       "  <tbody>\n",
       "    <tr>\n",
       "      <th>0</th>\n",
       "      <td>2017-02-11</td>\n",
       "      <td>rayban sunglasses valentines day specials</td>\n",
       "      <td>amaldiallo</td>\n",
       "    </tr>\n",
       "    <tr>\n",
       "      <th>1</th>\n",
       "      <td>2014-02-13</td>\n",
       "      <td>you rock</td>\n",
       "      <td>amaldiallo</td>\n",
       "    </tr>\n",
       "    <tr>\n",
       "      <th>2</th>\n",
       "      <td>2012-02-23</td>\n",
       "      <td>weird mood</td>\n",
       "      <td>amaldiallo</td>\n",
       "    </tr>\n",
       "    <tr>\n",
       "      <th>3</th>\n",
       "      <td>2020-05-19</td>\n",
       "      <td>some of us depend on the drug to live a normal...</td>\n",
       "      <td>taheownwoman</td>\n",
       "    </tr>\n",
       "    <tr>\n",
       "      <th>4</th>\n",
       "      <td>2020-05-19</td>\n",
       "      <td>those of us who depend on the drug to live a n...</td>\n",
       "      <td>taheownwoman</td>\n",
       "    </tr>\n",
       "  </tbody>\n",
       "</table>\n",
       "</div>"
      ],
      "text/plain": [
       "         date                                             tweets          name\n",
       "0  2017-02-11         rayban sunglasses valentines day specials     amaldiallo\n",
       "1  2014-02-13                                           you rock    amaldiallo\n",
       "2  2012-02-23                                         weird mood    amaldiallo\n",
       "3  2020-05-19  some of us depend on the drug to live a normal...  taheownwoman\n",
       "4  2020-05-19  those of us who depend on the drug to live a n...  taheownwoman"
      ]
     },
     "execution_count": 3,
     "metadata": {},
     "output_type": "execute_result"
    }
   ],
   "source": [
    "data_a = p.read_csv(input_directory1, dtype = {'tweets': str})\n",
    "data_a.head(5)"
   ]
  },
  {
   "cell_type": "code",
   "execution_count": 4,
   "metadata": {},
   "outputs": [
    {
     "data": {
      "text/html": [
       "<div>\n",
       "<style scoped>\n",
       "    .dataframe tbody tr th:only-of-type {\n",
       "        vertical-align: middle;\n",
       "    }\n",
       "\n",
       "    .dataframe tbody tr th {\n",
       "        vertical-align: top;\n",
       "    }\n",
       "\n",
       "    .dataframe thead th {\n",
       "        text-align: right;\n",
       "    }\n",
       "</style>\n",
       "<table border=\"1\" class=\"dataframe\">\n",
       "  <thead>\n",
       "    <tr style=\"text-align: right;\">\n",
       "      <th></th>\n",
       "      <th>date</th>\n",
       "      <th>tweets</th>\n",
       "      <th>name</th>\n",
       "    </tr>\n",
       "  </thead>\n",
       "  <tbody>\n",
       "    <tr>\n",
       "      <th>0</th>\n",
       "      <td>2017-02-11</td>\n",
       "      <td>rayban sunglasses valentines day specials</td>\n",
       "      <td>amaldiallo</td>\n",
       "    </tr>\n",
       "    <tr>\n",
       "      <th>1</th>\n",
       "      <td>2014-02-13</td>\n",
       "      <td>you rock</td>\n",
       "      <td>amaldiallo</td>\n",
       "    </tr>\n",
       "    <tr>\n",
       "      <th>2</th>\n",
       "      <td>2012-02-23</td>\n",
       "      <td>weird mood</td>\n",
       "      <td>amaldiallo</td>\n",
       "    </tr>\n",
       "    <tr>\n",
       "      <th>3</th>\n",
       "      <td>2020-05-19</td>\n",
       "      <td>some of us depend on the drug to live a normal...</td>\n",
       "      <td>taheownwoman</td>\n",
       "    </tr>\n",
       "    <tr>\n",
       "      <th>4</th>\n",
       "      <td>2020-05-19</td>\n",
       "      <td>those of us who depend on the drug to live a n...</td>\n",
       "      <td>taheownwoman</td>\n",
       "    </tr>\n",
       "  </tbody>\n",
       "</table>\n",
       "</div>"
      ],
      "text/plain": [
       "         date                                             tweets          name\n",
       "0  2017-02-11         rayban sunglasses valentines day specials     amaldiallo\n",
       "1  2014-02-13                                           you rock    amaldiallo\n",
       "2  2012-02-23                                         weird mood    amaldiallo\n",
       "3  2020-05-19  some of us depend on the drug to live a normal...  taheownwoman\n",
       "4  2020-05-19  those of us who depend on the drug to live a n...  taheownwoman"
      ]
     },
     "execution_count": 4,
     "metadata": {},
     "output_type": "execute_result"
    }
   ],
   "source": [
    "data_a0 = data_a\n",
    "data_a0.tweets = data_a.tweets.apply(str)\n",
    "data_a0.head(5)"
   ]
  },
  {
   "cell_type": "code",
   "execution_count": 5,
   "metadata": {},
   "outputs": [
    {
     "data": {
      "text/html": [
       "<div>\n",
       "<style scoped>\n",
       "    .dataframe tbody tr th:only-of-type {\n",
       "        vertical-align: middle;\n",
       "    }\n",
       "\n",
       "    .dataframe tbody tr th {\n",
       "        vertical-align: top;\n",
       "    }\n",
       "\n",
       "    .dataframe thead th {\n",
       "        text-align: right;\n",
       "    }\n",
       "</style>\n",
       "<table border=\"1\" class=\"dataframe\">\n",
       "  <thead>\n",
       "    <tr style=\"text-align: right;\">\n",
       "      <th></th>\n",
       "      <th>date</th>\n",
       "      <th>tweets</th>\n",
       "      <th>name</th>\n",
       "      <th>polarity</th>\n",
       "      <th>subjectivity</th>\n",
       "    </tr>\n",
       "  </thead>\n",
       "  <tbody>\n",
       "    <tr>\n",
       "      <th>0</th>\n",
       "      <td>2017-02-11</td>\n",
       "      <td>rayban sunglasses valentines day specials</td>\n",
       "      <td>amaldiallo</td>\n",
       "      <td>0.000000</td>\n",
       "      <td>0.000</td>\n",
       "    </tr>\n",
       "    <tr>\n",
       "      <th>1</th>\n",
       "      <td>2014-02-13</td>\n",
       "      <td>you rock</td>\n",
       "      <td>amaldiallo</td>\n",
       "      <td>0.000000</td>\n",
       "      <td>0.000</td>\n",
       "    </tr>\n",
       "    <tr>\n",
       "      <th>2</th>\n",
       "      <td>2012-02-23</td>\n",
       "      <td>weird mood</td>\n",
       "      <td>amaldiallo</td>\n",
       "      <td>-0.500000</td>\n",
       "      <td>1.000</td>\n",
       "    </tr>\n",
       "    <tr>\n",
       "      <th>3</th>\n",
       "      <td>2020-05-19</td>\n",
       "      <td>some of us depend on the drug to live a normal...</td>\n",
       "      <td>taheownwoman</td>\n",
       "      <td>0.143182</td>\n",
       "      <td>0.575</td>\n",
       "    </tr>\n",
       "    <tr>\n",
       "      <th>4</th>\n",
       "      <td>2020-05-19</td>\n",
       "      <td>those of us who depend on the drug to live a n...</td>\n",
       "      <td>taheownwoman</td>\n",
       "      <td>0.143182</td>\n",
       "      <td>0.575</td>\n",
       "    </tr>\n",
       "  </tbody>\n",
       "</table>\n",
       "</div>"
      ],
      "text/plain": [
       "         date                                             tweets  \\\n",
       "0  2017-02-11         rayban sunglasses valentines day specials    \n",
       "1  2014-02-13                                           you rock   \n",
       "2  2012-02-23                                         weird mood   \n",
       "3  2020-05-19  some of us depend on the drug to live a normal...   \n",
       "4  2020-05-19  those of us who depend on the drug to live a n...   \n",
       "\n",
       "           name  polarity  subjectivity  \n",
       "0    amaldiallo  0.000000         0.000  \n",
       "1    amaldiallo  0.000000         0.000  \n",
       "2    amaldiallo -0.500000         1.000  \n",
       "3  taheownwoman  0.143182         0.575  \n",
       "4  taheownwoman  0.143182         0.575  "
      ]
     },
     "execution_count": 5,
     "metadata": {},
     "output_type": "execute_result"
    }
   ],
   "source": [
    "data_a1 = data_a0\n",
    "data_a1['polarity'] = data_a0.tweets.apply(\n",
    "    lambda x: TextBlob(x).sentiment.polarity\n",
    ")\n",
    "data_a1['subjectivity'] = data_a0.tweets.apply(\n",
    "    lambda x: TextBlob(x).sentiment.subjectivity\n",
    ")\n",
    "data_a1.head(5)"
   ]
  },
  {
   "cell_type": "code",
   "execution_count": 6,
   "metadata": {},
   "outputs": [
    {
     "data": {
      "text/html": [
       "<div>\n",
       "<style scoped>\n",
       "    .dataframe tbody tr th:only-of-type {\n",
       "        vertical-align: middle;\n",
       "    }\n",
       "\n",
       "    .dataframe tbody tr th {\n",
       "        vertical-align: top;\n",
       "    }\n",
       "\n",
       "    .dataframe thead th {\n",
       "        text-align: right;\n",
       "    }\n",
       "</style>\n",
       "<table border=\"1\" class=\"dataframe\">\n",
       "  <thead>\n",
       "    <tr style=\"text-align: right;\">\n",
       "      <th></th>\n",
       "      <th>name</th>\n",
       "      <th>polarity</th>\n",
       "      <th>subjectivity</th>\n",
       "    </tr>\n",
       "  </thead>\n",
       "  <tbody>\n",
       "    <tr>\n",
       "      <th>2</th>\n",
       "      <td>0mar_pacheco</td>\n",
       "      <td>0.007514</td>\n",
       "      <td>0.364583</td>\n",
       "    </tr>\n",
       "    <tr>\n",
       "      <th>3</th>\n",
       "      <td>1025Kimmysue</td>\n",
       "      <td>0.064778</td>\n",
       "      <td>0.405786</td>\n",
       "    </tr>\n",
       "    <tr>\n",
       "      <th>4</th>\n",
       "      <td>1101adityam</td>\n",
       "      <td>0.188933</td>\n",
       "      <td>0.458317</td>\n",
       "    </tr>\n",
       "    <tr>\n",
       "      <th>5</th>\n",
       "      <td>12Trends</td>\n",
       "      <td>0.183087</td>\n",
       "      <td>0.453103</td>\n",
       "    </tr>\n",
       "    <tr>\n",
       "      <th>6</th>\n",
       "      <td>188190DHMH</td>\n",
       "      <td>-0.091000</td>\n",
       "      <td>0.211611</td>\n",
       "    </tr>\n",
       "  </tbody>\n",
       "</table>\n",
       "</div>"
      ],
      "text/plain": [
       "           name  polarity  subjectivity\n",
       "2  0mar_pacheco  0.007514      0.364583\n",
       "3  1025Kimmysue  0.064778      0.405786\n",
       "4   1101adityam  0.188933      0.458317\n",
       "5      12Trends  0.183087      0.453103\n",
       "6    188190DHMH -0.091000      0.211611"
      ]
     },
     "execution_count": 6,
     "metadata": {},
     "output_type": "execute_result"
    }
   ],
   "source": [
    "names_adequate_sample_size = data_a1.groupby(['name']).count().reset_index().query(\n",
    "    'polarity == 25'\n",
    ").name\n",
    "names_adequate_sample_size = set(names_adequate_sample_size.tolist())\n",
    "data_a2 = data_a1.groupby(['name']).mean().reset_index()\n",
    "data_a2 = data_a2[\n",
    "    data_a2.name.isin(names_adequate_sample_size)\n",
    "]\n",
    "data_a2.head(5)"
   ]
  },
  {
   "cell_type": "code",
   "execution_count": 8,
   "metadata": {},
   "outputs": [],
   "source": [
    "polarity_a = data_a2.polarity.median()\n",
    "subjectivity_a = data_a2.subjectivity.median()"
   ]
  },
  {
   "cell_type": "code",
   "execution_count": 9,
   "metadata": {},
   "outputs": [
    {
     "name": "stdout",
     "output_type": "stream",
     "text": [
      "0.05915454545454546\n",
      "0.30641818181818176\n"
     ]
    }
   ],
   "source": [
    "#maddow\n",
    "print(polarity_a)\n",
    "print(subjectivity_a)"
   ]
  },
  {
   "cell_type": "code",
   "execution_count": 11,
   "metadata": {},
   "outputs": [
    {
     "name": "stdout",
     "output_type": "stream",
     "text": [
      "0.06309404761904763\n",
      "0.28327409812409815\n"
     ]
    }
   ],
   "source": [
    "data_b = p.read_csv(input_directory2, dtype = {'tweets': str})\n",
    "data_b0 = data_b\n",
    "data_b0.tweets = data_b.tweets.apply(str)\n",
    "data_b1 = data_b0\n",
    "data_b1['polarity'] = data_b0.tweets.apply(\n",
    "    lambda x: TextBlob(x).sentiment.polarity\n",
    ")\n",
    "data_b1['subjectivity'] = data_b0.tweets.apply(\n",
    "    lambda x: TextBlob(x).sentiment.subjectivity\n",
    ")\n",
    "names_adequate_sample_size = data_b1.groupby(['name']).count().reset_index().query(\n",
    "    'polarity == 25'\n",
    ").name\n",
    "names_adequate_sample_size = set(names_adequate_sample_size.tolist())\n",
    "data_b2 = data_b1.groupby(['name']).mean().reset_index()\n",
    "data_b2 = data_b2[\n",
    "    data_b2.name.isin(names_adequate_sample_size)\n",
    "]\n",
    "data_b2.head(5)\n",
    "polarity_b = data_b2.polarity.median()\n",
    "subjectivity_b = data_b2.subjectivity.median()\n",
    "\n",
    "#seanhannity\n",
    "print(polarity_b)\n",
    "print(subjectivity_b)"
   ]
  },
  {
   "cell_type": "code",
   "execution_count": 15,
   "metadata": {},
   "outputs": [
    {
     "data": {
      "text/html": [
       "<div>\n",
       "<style scoped>\n",
       "    .dataframe tbody tr th:only-of-type {\n",
       "        vertical-align: middle;\n",
       "    }\n",
       "\n",
       "    .dataframe tbody tr th {\n",
       "        vertical-align: top;\n",
       "    }\n",
       "\n",
       "    .dataframe thead th {\n",
       "        text-align: right;\n",
       "    }\n",
       "</style>\n",
       "<table border=\"1\" class=\"dataframe\">\n",
       "  <thead>\n",
       "    <tr style=\"text-align: right;\">\n",
       "      <th></th>\n",
       "      <th>name</th>\n",
       "      <th>polarity</th>\n",
       "      <th>subjectivity</th>\n",
       "    </tr>\n",
       "  </thead>\n",
       "  <tbody>\n",
       "    <tr>\n",
       "      <th>0</th>\n",
       "      <td>10AJMcCarron</td>\n",
       "      <td>0.273778</td>\n",
       "      <td>0.353778</td>\n",
       "    </tr>\n",
       "    <tr>\n",
       "      <th>1</th>\n",
       "      <td>12thMan</td>\n",
       "      <td>0.147791</td>\n",
       "      <td>0.238190</td>\n",
       "    </tr>\n",
       "    <tr>\n",
       "      <th>2</th>\n",
       "      <td>80miles</td>\n",
       "      <td>0.061317</td>\n",
       "      <td>0.287095</td>\n",
       "    </tr>\n",
       "    <tr>\n",
       "      <th>3</th>\n",
       "      <td>911onFOX</td>\n",
       "      <td>0.168762</td>\n",
       "      <td>0.194762</td>\n",
       "    </tr>\n",
       "    <tr>\n",
       "      <th>4</th>\n",
       "      <td>A24</td>\n",
       "      <td>0.199066</td>\n",
       "      <td>0.505237</td>\n",
       "    </tr>\n",
       "  </tbody>\n",
       "</table>\n",
       "</div>"
      ],
      "text/plain": [
       "           name  polarity  subjectivity\n",
       "0  10AJMcCarron  0.273778      0.353778\n",
       "1       12thMan  0.147791      0.238190\n",
       "2       80miles  0.061317      0.287095\n",
       "3      911onFOX  0.168762      0.194762\n",
       "4           A24  0.199066      0.505237"
      ]
     },
     "execution_count": 15,
     "metadata": {},
     "output_type": "execute_result"
    }
   ],
   "source": [
    "# random sample of general population\n",
    "data_random = p.read_csv(input_directory_random, dtype = {'tweets': str})\n",
    "data_random0 = data_random\n",
    "data_random0.tweets = data_random.tweets.apply(str)\n",
    "data_random1 = data_random0\n",
    "data_random1['polarity'] = data_random0.tweets.apply(\n",
    "    lambda x: TextBlob(x).sentiment.polarity\n",
    ")\n",
    "data_random1['subjectivity'] = data_random0.tweets.apply(\n",
    "    lambda x: TextBlob(x).sentiment.subjectivity\n",
    ")\n",
    "names_adequate_sample_size = data_random1.groupby(['name']).count().reset_index().query(\n",
    "    'polarity == 25'\n",
    ").name\n",
    "names_adequate_sample_size = set(names_adequate_sample_size.tolist())\n",
    "data_random2 = data_random1.groupby(['name']).mean().reset_index()\n",
    "data_random2 = data_random2[\n",
    "    data_random2.name.isin(names_adequate_sample_size)\n",
    "]\n",
    "data_random2.head(5)\n"
   ]
  },
  {
   "cell_type": "code",
   "execution_count": 21,
   "metadata": {},
   "outputs": [
    {
     "name": "stdout",
     "output_type": "stream",
     "text": [
      "Democrats' Sentiment Percentile:  15.23%\n",
      "Republicans' Sentiment Percentile:  16.83%\n"
     ]
    },
    {
     "data": {
      "image/png": "[encoded data removed]",
      "text/plain": [
       "<Figure size 720x576 with 1 Axes>"
      ]
     },
     "metadata": {
      "needs_background": "light"
     },
     "output_type": "display_data"
    }
   ],
   "source": [
    "# Visualize age distribution by target value.\n",
    "plotter.figure(figsize = (10, 8))\n",
    "\n",
    "# KDE plot of loans that were repaid on time\n",
    "sns.kdeplot(data_random2.polarity, legend = False, color = \"black\")\n",
    "\n",
    "# Labeling of plot\n",
    "plotter.xlabel('<-- Negative -------- Positive -->', fontsize = 20)\n",
    "plotter.ylabel('Frequency')\n",
    "plotter.title('Tweet Positivity (General Population)\\n\\\n",
    "                Percentiles:  (5%, 95%)                ', fontsize = 20);\n",
    "\n",
    "plotter.xlim(\n",
    "    n.percentile(data_random2.polarity, 5),\n",
    "    n.percentile(data_random2.polarity, 95)\n",
    ")\n",
    "\n",
    "plotter.axvline(x = polarity_a, color = \"blue\")\n",
    "plotter.text(polarity_a - .01, 1, 'Democrats\\' Tweet Positivity (median)', rotation = 90, size = 15, color = \"blue\")\n",
    "plotter.axvline(x = polarity_b, color = \"red\")\n",
    "plotter.text(polarity_b + .005, 1, 'Republicans\\' Tweet Positivity (median)', rotation = 90, size = 15, color = 'red')\n",
    "plotter.axvline(x = n.percentile(data_random2.polarity, 50), color = \"black\")\n",
    "plotter.text(n.percentile(data_random2.polarity, 50) + .005, 1, '50th Percentile', rotation = 90, size = 15)\n",
    "\n",
    "print(\n",
    "    \"Democrats' Sentiment Percentile:  \",\n",
    "    round(percentileofscore(data_random2.polarity, polarity_a), 2),\n",
    "    \"%\",\n",
    "    sep = \"\"\n",
    ")\n",
    "print(\n",
    "    \"Republicans' Sentiment Percentile:  \",\n",
    "    round(percentileofscore(data_random2.polarity, polarity_b), 2),\n",
    "    \"%\",\n",
    "    sep = \"\"\n",
    ")\n"
   ]
  },
  {
   "cell_type": "code",
   "execution_count": 22,
   "metadata": {},
   "outputs": [
    {
     "name": "stdout",
     "output_type": "stream",
     "text": [
      "Democrats' Sentiment Percentile:  44.29%\n",
      "Republicans' Sentiment Percentile:  33.47%\n"
     ]
    },
    {
     "data": {
      "image/png": "[encoded data removed]",
      "text/plain": [
       "<Figure size 720x576 with 1 Axes>"
      ]
     },
     "metadata": {
      "needs_background": "light"
     },
     "output_type": "display_data"
    }
   ],
   "source": [
    "# Visualize age distribution by target value.\n",
    "plotter.figure(figsize = (10, 8))\n",
    "\n",
    "# KDE plot of loans that were repaid on time\n",
    "sns.kdeplot(data_random2.subjectivity, legend = False, color = \"black\")\n",
    "\n",
    "# Labeling of plot\n",
    "plotter.ylabel('Frequency')\n",
    "plotter.xlabel('<-- Facts -------- Opinions -->', fontsize = 20)\n",
    "plotter.title('Tweet Subjectivity (General Population)\\n\\\n",
    "                Percentiles:  (5%, 95%)                ', fontsize = 20);\n",
    "\n",
    "plotter.xlim(\n",
    "    n.percentile(data_random2.subjectivity, 5),\n",
    "    n.percentile(data_random2.subjectivity, 95)\n",
    ")\n",
    "\n",
    "plotter.axvline(x = subjectivity_a, color = \"blue\")\n",
    "plotter.text(subjectivity_a - .01, 1, 'Democrats\\' Tweet Subjectivity (median)', rotation = 90, size = 15, color = \"blue\")\n",
    "plotter.axvline(x = subjectivity_b, color = \"red\")\n",
    "plotter.text(subjectivity_b - .01, 1, 'Republicans\\' Tweet Subjectivity (median)', rotation = 90, size = 15, color = 'red')\n",
    "plotter.axvline(x = n.percentile(data_random2.subjectivity, 50), color = \"black\")\n",
    "plotter.text(n.percentile(data_random2.subjectivity, 50) + .005, 1, '50th Percentile', rotation = 90, size = 15)\n",
    "\n",
    "print(\n",
    "    \"Democrats' Sentiment Percentile:  \",\n",
    "    round(percentileofscore(data_random2.subjectivity, subjectivity_a), 2),\n",
    "    \"%\",\n",
    "    sep = \"\"\n",
    ")\n",
    "print(\n",
    "    \"Republicans' Sentiment Percentile:  \",\n",
    "    round(percentileofscore(data_random2.subjectivity, subjectivity_b), 2),\n",
    "    \"%\",\n",
    "    sep = \"\"\n",
    ")\n"
   ]
  }
 ],
 "metadata": {
  "kernelspec": {
   "display_name": "Python 3",
   "language": "python",
   "name": "python3"
  },
  "language_info": {
   "codemirror_mode": {
    "name": "ipython",
    "version": 3
   },
   "file_extension": ".py",
   "mimetype": "text/x-python",
   "name": "python",
   "nbconvert_exporter": "python",
   "pygments_lexer": "ipython3",
   "version": "3.7.1"
  }
 },
 "nbformat": 4,
 "nbformat_minor": 2
}
