{
 "cells": [
  {
   "cell_type": "code",
   "execution_count": 1,
   "metadata": {},
   "outputs": [],
   "source": [
    "import pandas as p\n",
    "import re\n",
    "import string"
   ]
  },
  {
   "cell_type": "code",
   "execution_count": 2,
   "metadata": {},
   "outputs": [],
   "source": [
    "input_directory = \"C:/Users/BLAHBLAHBLAH/Desktop/tweets_from_random_users.csv\"\n",
    "output_directory = \"C:/Users/BLAHBLAHBLAH/Desktop/tweets_from_random_users_cleaned.csv\"\n",
    "bad_words = ['@', 'http', 'RT']"
   ]
  },
  {
   "cell_type": "code",
   "execution_count": 3,
   "metadata": {},
   "outputs": [],
   "source": [
    "def clean_text(text):\n",
    "    text = text.lower()\n",
    "    text = re.sub(\n",
    "    \"\\[.*?\\]\",\n",
    "    \"\",\n",
    "    text)\n",
    "    text = re.sub(\n",
    "    \"[%s]\" % re.escape(string.punctuation),\n",
    "    \"\",\n",
    "    text)\n",
    "    text = re.sub(\n",
    "    \"[“”’]\",\n",
    "    \"\",\n",
    "    text)\n",
    "    text = re.sub(\n",
    "    \"\\w*\\d\\w*\",\n",
    "    \"\",\n",
    "    text)\n",
    "    \n",
    "    return text\n",
    "\n",
    "def remove_words_that_begin_with(text, bad_words):\n",
    "    for bad_word in bad_words:\n",
    "        text = ' '.join(word for word in text.split(' ') if not word.startswith(bad_word))\n",
    "    return text"
   ]
  },
  {
   "cell_type": "code",
   "execution_count": 4,
   "metadata": {},
   "outputs": [
    {
     "data": {
      "text/html": [
       "<div>\n",
       "<style scoped>\n",
       "    .dataframe tbody tr th:only-of-type {\n",
       "        vertical-align: middle;\n",
       "    }\n",
       "\n",
       "    .dataframe tbody tr th {\n",
       "        vertical-align: top;\n",
       "    }\n",
       "\n",
       "    .dataframe thead th {\n",
       "        text-align: right;\n",
       "    }\n",
       "</style>\n",
       "<table border=\"1\" class=\"dataframe\">\n",
       "  <thead>\n",
       "    <tr style=\"text-align: right;\">\n",
       "      <th></th>\n",
       "      <th>date</th>\n",
       "      <th>tweets</th>\n",
       "      <th>name</th>\n",
       "    </tr>\n",
       "  </thead>\n",
       "  <tbody>\n",
       "    <tr>\n",
       "      <th>0</th>\n",
       "      <td>2020-05-27</td>\n",
       "      <td>RT @JimBridenstine: 🌩️ No launch for today - s...</td>\n",
       "      <td>NASAJPL</td>\n",
       "    </tr>\n",
       "    <tr>\n",
       "      <th>1</th>\n",
       "      <td>2020-05-27</td>\n",
       "      <td>@mrjorgesen @AstroBehnken @Astro_Doug @Space_S...</td>\n",
       "      <td>NASAJPL</td>\n",
       "    </tr>\n",
       "    <tr>\n",
       "      <th>2</th>\n",
       "      <td>2020-05-27</td>\n",
       "      <td>Join us as @AstroBehnken &amp;amp; @Astro_Doug lau...</td>\n",
       "      <td>NASAJPL</td>\n",
       "    </tr>\n",
       "    <tr>\n",
       "      <th>3</th>\n",
       "      <td>2020-05-26</td>\n",
       "      <td>@mycroft16 @Caltech @AstroBehnken @NASA @Astro...</td>\n",
       "      <td>NASAJPL</td>\n",
       "    </tr>\n",
       "    <tr>\n",
       "      <th>4</th>\n",
       "      <td>2020-05-26</td>\n",
       "      <td>It's a moral imperative we give a shoutout to ...</td>\n",
       "      <td>NASAJPL</td>\n",
       "    </tr>\n",
       "  </tbody>\n",
       "</table>\n",
       "</div>"
      ],
      "text/plain": [
       "         date                                             tweets     name\n",
       "0  2020-05-27  RT @JimBridenstine: 🌩️ No launch for today - s...  NASAJPL\n",
       "1  2020-05-27  @mrjorgesen @AstroBehnken @Astro_Doug @Space_S...  NASAJPL\n",
       "2  2020-05-27  Join us as @AstroBehnken &amp; @Astro_Doug lau...  NASAJPL\n",
       "3  2020-05-26  @mycroft16 @Caltech @AstroBehnken @NASA @Astro...  NASAJPL\n",
       "4  2020-05-26  It's a moral imperative we give a shoutout to ...  NASAJPL"
      ]
     },
     "execution_count": 4,
     "metadata": {},
     "output_type": "execute_result"
    }
   ],
   "source": [
    "data = p.read_csv(input_directory, dtype = {'tweets': str})\n",
    "data.tweets = data.tweets.apply(str)\n",
    "data.head(5)"
   ]
  },
  {
   "cell_type": "code",
   "execution_count": 5,
   "metadata": {},
   "outputs": [
    {
     "data": {
      "text/html": [
       "<div>\n",
       "<style scoped>\n",
       "    .dataframe tbody tr th:only-of-type {\n",
       "        vertical-align: middle;\n",
       "    }\n",
       "\n",
       "    .dataframe tbody tr th {\n",
       "        vertical-align: top;\n",
       "    }\n",
       "\n",
       "    .dataframe thead th {\n",
       "        text-align: right;\n",
       "    }\n",
       "</style>\n",
       "<table border=\"1\" class=\"dataframe\">\n",
       "  <thead>\n",
       "    <tr style=\"text-align: right;\">\n",
       "      <th></th>\n",
       "      <th>date</th>\n",
       "      <th>tweets</th>\n",
       "      <th>name</th>\n",
       "    </tr>\n",
       "  </thead>\n",
       "  <tbody>\n",
       "    <tr>\n",
       "      <th>0</th>\n",
       "      <td>2020-05-27</td>\n",
       "      <td>🌩️ No launch for today - safety for our crew m...</td>\n",
       "      <td>NASAJPL</td>\n",
       "    </tr>\n",
       "    <tr>\n",
       "      <th>1</th>\n",
       "      <td>2020-05-27</td>\n",
       "      <td>Astronauts are pros when it comes to qu…</td>\n",
       "      <td>NASAJPL</td>\n",
       "    </tr>\n",
       "    <tr>\n",
       "      <th>2</th>\n",
       "      <td>2020-05-27</td>\n",
       "      <td>Join us as &amp;amp; launch to the on #CrewDragon....</td>\n",
       "      <td>NASAJPL</td>\n",
       "    </tr>\n",
       "    <tr>\n",
       "      <th>3</th>\n",
       "      <td>2020-05-26</td>\n",
       "      <td></td>\n",
       "      <td>NASAJPL</td>\n",
       "    </tr>\n",
       "    <tr>\n",
       "      <th>4</th>\n",
       "      <td>2020-05-26</td>\n",
       "      <td>It's a moral imperative we give a shoutout to ...</td>\n",
       "      <td>NASAJPL</td>\n",
       "    </tr>\n",
       "  </tbody>\n",
       "</table>\n",
       "</div>"
      ],
      "text/plain": [
       "         date                                             tweets     name\n",
       "0  2020-05-27  🌩️ No launch for today - safety for our crew m...  NASAJPL\n",
       "1  2020-05-27           Astronauts are pros when it comes to qu…  NASAJPL\n",
       "2  2020-05-27  Join us as &amp; launch to the on #CrewDragon....  NASAJPL\n",
       "3  2020-05-26                                                     NASAJPL\n",
       "4  2020-05-26  It's a moral imperative we give a shoutout to ...  NASAJPL"
      ]
     },
     "execution_count": 5,
     "metadata": {},
     "output_type": "execute_result"
    }
   ],
   "source": [
    "data0 = data\n",
    "data0.tweets = data.tweets.apply(\n",
    "    lambda x: remove_words_that_begin_with(x, bad_words)\n",
    ")\n",
    "data0.head(5)\n"
   ]
  },
  {
   "cell_type": "code",
   "execution_count": 6,
   "metadata": {},
   "outputs": [
    {
     "data": {
      "text/html": [
       "<div>\n",
       "<style scoped>\n",
       "    .dataframe tbody tr th:only-of-type {\n",
       "        vertical-align: middle;\n",
       "    }\n",
       "\n",
       "    .dataframe tbody tr th {\n",
       "        vertical-align: top;\n",
       "    }\n",
       "\n",
       "    .dataframe thead th {\n",
       "        text-align: right;\n",
       "    }\n",
       "</style>\n",
       "<table border=\"1\" class=\"dataframe\">\n",
       "  <thead>\n",
       "    <tr style=\"text-align: right;\">\n",
       "      <th></th>\n",
       "      <th>date</th>\n",
       "      <th>tweets</th>\n",
       "      <th>name</th>\n",
       "    </tr>\n",
       "  </thead>\n",
       "  <tbody>\n",
       "    <tr>\n",
       "      <th>0</th>\n",
       "      <td>2020-05-27</td>\n",
       "      <td>🌩️ no launch for today  safety for our crew me...</td>\n",
       "      <td>NASAJPL</td>\n",
       "    </tr>\n",
       "    <tr>\n",
       "      <th>1</th>\n",
       "      <td>2020-05-27</td>\n",
       "      <td>astronauts are pros when it comes to qu…</td>\n",
       "      <td>NASAJPL</td>\n",
       "    </tr>\n",
       "    <tr>\n",
       "      <th>2</th>\n",
       "      <td>2020-05-27</td>\n",
       "      <td>join us as amp launch to the on crewdragon enj...</td>\n",
       "      <td>NASAJPL</td>\n",
       "    </tr>\n",
       "    <tr>\n",
       "      <th>3</th>\n",
       "      <td>2020-05-26</td>\n",
       "      <td></td>\n",
       "      <td>NASAJPL</td>\n",
       "    </tr>\n",
       "    <tr>\n",
       "      <th>4</th>\n",
       "      <td>2020-05-26</td>\n",
       "      <td>its a moral imperative we give a shoutout to a...</td>\n",
       "      <td>NASAJPL</td>\n",
       "    </tr>\n",
       "  </tbody>\n",
       "</table>\n",
       "</div>"
      ],
      "text/plain": [
       "         date                                             tweets     name\n",
       "0  2020-05-27  🌩️ no launch for today  safety for our crew me...  NASAJPL\n",
       "1  2020-05-27           astronauts are pros when it comes to qu…  NASAJPL\n",
       "2  2020-05-27  join us as amp launch to the on crewdragon enj...  NASAJPL\n",
       "3  2020-05-26                                                     NASAJPL\n",
       "4  2020-05-26  its a moral imperative we give a shoutout to a...  NASAJPL"
      ]
     },
     "execution_count": 6,
     "metadata": {},
     "output_type": "execute_result"
    }
   ],
   "source": [
    "data1 = data0\n",
    "data1.tweets = data0.tweets.apply(clean_text)\n",
    "data1.head(5)"
   ]
  },
  {
   "cell_type": "code",
   "execution_count": 7,
   "metadata": {},
   "outputs": [],
   "source": [
    "data0.to_csv(output_directory, index = False)"
   ]
  }
 ],
 "metadata": {
  "kernelspec": {
   "display_name": "Python 3",
   "language": "python",
   "name": "python3"
  },
  "language_info": {
   "codemirror_mode": {
    "name": "ipython",
    "version": 3
   },
   "file_extension": ".py",
   "mimetype": "text/x-python",
   "name": "python",
   "nbconvert_exporter": "python",
   "pygments_lexer": "ipython3",
   "version": "3.7.1"
  }
 },
 "nbformat": 4,
 "nbformat_minor": 2
}
